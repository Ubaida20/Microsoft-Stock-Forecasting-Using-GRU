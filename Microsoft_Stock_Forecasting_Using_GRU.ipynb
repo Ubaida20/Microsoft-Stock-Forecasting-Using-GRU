{
  "nbformat": 4,
  "nbformat_minor": 0,
  "metadata": {
    "colab": {
      "provenance": []
    },
    "kernelspec": {
      "name": "python3",
      "display_name": "Python 3"
    },
    "language_info": {
      "name": "python"
    }
  },
  "cells": [
    {
      "cell_type": "code",
      "execution_count": 45,
      "metadata": {
        "id": "kuyD-pjopB3X"
      },
      "outputs": [],
      "source": [
        "import pandas as pd\n",
        "\n",
        "data = pd.read_csv(\"/content/MSFT.csv\")"
      ]
    },
    {
      "cell_type": "code",
      "source": [
        "data.head()"
      ],
      "metadata": {
        "colab": {
          "base_uri": "https://localhost:8080/",
          "height": 206
        },
        "id": "AMjbe-PRpZQF",
        "outputId": "b47adf73-b603-4e99-9732-75daee553730"
      },
      "execution_count": 46,
      "outputs": [
        {
          "output_type": "execute_result",
          "data": {
            "text/plain": [
              "         Date      Open      High       Low     Close  Adj Close      Volume\n",
              "0  1986-03-13  0.088542  0.101563  0.088542  0.097222   0.060524  1031788800\n",
              "1  1986-03-14  0.097222  0.102431  0.097222  0.100694   0.062686   308160000\n",
              "2  1986-03-17  0.100694  0.103299  0.100694  0.102431   0.063767   133171200\n",
              "3  1986-03-18  0.102431  0.103299  0.098958  0.099826   0.062145    67766400\n",
              "4  1986-03-19  0.099826  0.100694  0.097222  0.098090   0.061065    47894400"
            ],
            "text/html": [
              "\n",
              "  <div id=\"df-cf243ed5-9465-4122-bef1-c2f60ead3e42\">\n",
              "    <div class=\"colab-df-container\">\n",
              "      <div>\n",
              "<style scoped>\n",
              "    .dataframe tbody tr th:only-of-type {\n",
              "        vertical-align: middle;\n",
              "    }\n",
              "\n",
              "    .dataframe tbody tr th {\n",
              "        vertical-align: top;\n",
              "    }\n",
              "\n",
              "    .dataframe thead th {\n",
              "        text-align: right;\n",
              "    }\n",
              "</style>\n",
              "<table border=\"1\" class=\"dataframe\">\n",
              "  <thead>\n",
              "    <tr style=\"text-align: right;\">\n",
              "      <th></th>\n",
              "      <th>Date</th>\n",
              "      <th>Open</th>\n",
              "      <th>High</th>\n",
              "      <th>Low</th>\n",
              "      <th>Close</th>\n",
              "      <th>Adj Close</th>\n",
              "      <th>Volume</th>\n",
              "    </tr>\n",
              "  </thead>\n",
              "  <tbody>\n",
              "    <tr>\n",
              "      <th>0</th>\n",
              "      <td>1986-03-13</td>\n",
              "      <td>0.088542</td>\n",
              "      <td>0.101563</td>\n",
              "      <td>0.088542</td>\n",
              "      <td>0.097222</td>\n",
              "      <td>0.060524</td>\n",
              "      <td>1031788800</td>\n",
              "    </tr>\n",
              "    <tr>\n",
              "      <th>1</th>\n",
              "      <td>1986-03-14</td>\n",
              "      <td>0.097222</td>\n",
              "      <td>0.102431</td>\n",
              "      <td>0.097222</td>\n",
              "      <td>0.100694</td>\n",
              "      <td>0.062686</td>\n",
              "      <td>308160000</td>\n",
              "    </tr>\n",
              "    <tr>\n",
              "      <th>2</th>\n",
              "      <td>1986-03-17</td>\n",
              "      <td>0.100694</td>\n",
              "      <td>0.103299</td>\n",
              "      <td>0.100694</td>\n",
              "      <td>0.102431</td>\n",
              "      <td>0.063767</td>\n",
              "      <td>133171200</td>\n",
              "    </tr>\n",
              "    <tr>\n",
              "      <th>3</th>\n",
              "      <td>1986-03-18</td>\n",
              "      <td>0.102431</td>\n",
              "      <td>0.103299</td>\n",
              "      <td>0.098958</td>\n",
              "      <td>0.099826</td>\n",
              "      <td>0.062145</td>\n",
              "      <td>67766400</td>\n",
              "    </tr>\n",
              "    <tr>\n",
              "      <th>4</th>\n",
              "      <td>1986-03-19</td>\n",
              "      <td>0.099826</td>\n",
              "      <td>0.100694</td>\n",
              "      <td>0.097222</td>\n",
              "      <td>0.098090</td>\n",
              "      <td>0.061065</td>\n",
              "      <td>47894400</td>\n",
              "    </tr>\n",
              "  </tbody>\n",
              "</table>\n",
              "</div>\n",
              "      <button class=\"colab-df-convert\" onclick=\"convertToInteractive('df-cf243ed5-9465-4122-bef1-c2f60ead3e42')\"\n",
              "              title=\"Convert this dataframe to an interactive table.\"\n",
              "              style=\"display:none;\">\n",
              "        \n",
              "  <svg xmlns=\"http://www.w3.org/2000/svg\" height=\"24px\"viewBox=\"0 0 24 24\"\n",
              "       width=\"24px\">\n",
              "    <path d=\"M0 0h24v24H0V0z\" fill=\"none\"/>\n",
              "    <path d=\"M18.56 5.44l.94 2.06.94-2.06 2.06-.94-2.06-.94-.94-2.06-.94 2.06-2.06.94zm-11 1L8.5 8.5l.94-2.06 2.06-.94-2.06-.94L8.5 2.5l-.94 2.06-2.06.94zm10 10l.94 2.06.94-2.06 2.06-.94-2.06-.94-.94-2.06-.94 2.06-2.06.94z\"/><path d=\"M17.41 7.96l-1.37-1.37c-.4-.4-.92-.59-1.43-.59-.52 0-1.04.2-1.43.59L10.3 9.45l-7.72 7.72c-.78.78-.78 2.05 0 2.83L4 21.41c.39.39.9.59 1.41.59.51 0 1.02-.2 1.41-.59l7.78-7.78 2.81-2.81c.8-.78.8-2.07 0-2.86zM5.41 20L4 18.59l7.72-7.72 1.47 1.35L5.41 20z\"/>\n",
              "  </svg>\n",
              "      </button>\n",
              "      \n",
              "  <style>\n",
              "    .colab-df-container {\n",
              "      display:flex;\n",
              "      flex-wrap:wrap;\n",
              "      gap: 12px;\n",
              "    }\n",
              "\n",
              "    .colab-df-convert {\n",
              "      background-color: #E8F0FE;\n",
              "      border: none;\n",
              "      border-radius: 50%;\n",
              "      cursor: pointer;\n",
              "      display: none;\n",
              "      fill: #1967D2;\n",
              "      height: 32px;\n",
              "      padding: 0 0 0 0;\n",
              "      width: 32px;\n",
              "    }\n",
              "\n",
              "    .colab-df-convert:hover {\n",
              "      background-color: #E2EBFA;\n",
              "      box-shadow: 0px 1px 2px rgba(60, 64, 67, 0.3), 0px 1px 3px 1px rgba(60, 64, 67, 0.15);\n",
              "      fill: #174EA6;\n",
              "    }\n",
              "\n",
              "    [theme=dark] .colab-df-convert {\n",
              "      background-color: #3B4455;\n",
              "      fill: #D2E3FC;\n",
              "    }\n",
              "\n",
              "    [theme=dark] .colab-df-convert:hover {\n",
              "      background-color: #434B5C;\n",
              "      box-shadow: 0px 1px 3px 1px rgba(0, 0, 0, 0.15);\n",
              "      filter: drop-shadow(0px 1px 2px rgba(0, 0, 0, 0.3));\n",
              "      fill: #FFFFFF;\n",
              "    }\n",
              "  </style>\n",
              "\n",
              "      <script>\n",
              "        const buttonEl =\n",
              "          document.querySelector('#df-cf243ed5-9465-4122-bef1-c2f60ead3e42 button.colab-df-convert');\n",
              "        buttonEl.style.display =\n",
              "          google.colab.kernel.accessAllowed ? 'block' : 'none';\n",
              "\n",
              "        async function convertToInteractive(key) {\n",
              "          const element = document.querySelector('#df-cf243ed5-9465-4122-bef1-c2f60ead3e42');\n",
              "          const dataTable =\n",
              "            await google.colab.kernel.invokeFunction('convertToInteractive',\n",
              "                                                     [key], {});\n",
              "          if (!dataTable) return;\n",
              "\n",
              "          const docLinkHtml = 'Like what you see? Visit the ' +\n",
              "            '<a target=\"_blank\" href=https://colab.research.google.com/notebooks/data_table.ipynb>data table notebook</a>'\n",
              "            + ' to learn more about interactive tables.';\n",
              "          element.innerHTML = '';\n",
              "          dataTable['output_type'] = 'display_data';\n",
              "          await google.colab.output.renderOutput(dataTable, element);\n",
              "          const docLink = document.createElement('div');\n",
              "          docLink.innerHTML = docLinkHtml;\n",
              "          element.appendChild(docLink);\n",
              "        }\n",
              "      </script>\n",
              "    </div>\n",
              "  </div>\n",
              "  "
            ]
          },
          "metadata": {},
          "execution_count": 46
        }
      ]
    },
    {
      "cell_type": "code",
      "source": [
        "data.shape"
      ],
      "metadata": {
        "colab": {
          "base_uri": "https://localhost:8080/"
        },
        "id": "XfhA8Angpddm",
        "outputId": "862a3284-fa13-4441-cf68-72da395c6a9d"
      },
      "execution_count": 47,
      "outputs": [
        {
          "output_type": "execute_result",
          "data": {
            "text/plain": [
              "(9373, 7)"
            ]
          },
          "metadata": {},
          "execution_count": 47
        }
      ]
    },
    {
      "cell_type": "code",
      "source": [
        "data.describe()"
      ],
      "metadata": {
        "colab": {
          "base_uri": "https://localhost:8080/",
          "height": 300
        },
        "id": "K5n-9a1HpfwK",
        "outputId": "c0c926f2-5cdd-48df-af04-64236a258c52"
      },
      "execution_count": 48,
      "outputs": [
        {
          "output_type": "execute_result",
          "data": {
            "text/plain": [
              "              Open         High          Low        Close    Adj Close  \\\n",
              "count  9373.000000  9373.000000  9373.000000  9373.000000  9373.000000   \n",
              "mean     48.187510    48.708432    47.657192    48.202110    42.795510   \n",
              "std      70.321724    71.052606    69.559191    70.348664    70.344745   \n",
              "min       0.088542     0.092014     0.088542     0.090278     0.056201   \n",
              "25%       5.343750     5.429688     5.250000     5.367188     3.341276   \n",
              "50%      27.049999    27.350000    26.830000    27.090000    19.038940   \n",
              "75%      43.468750    44.031250    43.000000    43.500000    32.936100   \n",
              "max     344.619995   349.670013   342.200012   343.109985   338.335938   \n",
              "\n",
              "             Volume  \n",
              "count  9.373000e+03  \n",
              "mean   5.784494e+07  \n",
              "std    3.823132e+07  \n",
              "min    2.304000e+06  \n",
              "25%    3.356960e+07  \n",
              "50%    5.105760e+07  \n",
              "75%    7.163840e+07  \n",
              "max    1.031789e+09  "
            ],
            "text/html": [
              "\n",
              "  <div id=\"df-c7d4ceed-9e3b-4aed-8f84-fde0dde53d9e\">\n",
              "    <div class=\"colab-df-container\">\n",
              "      <div>\n",
              "<style scoped>\n",
              "    .dataframe tbody tr th:only-of-type {\n",
              "        vertical-align: middle;\n",
              "    }\n",
              "\n",
              "    .dataframe tbody tr th {\n",
              "        vertical-align: top;\n",
              "    }\n",
              "\n",
              "    .dataframe thead th {\n",
              "        text-align: right;\n",
              "    }\n",
              "</style>\n",
              "<table border=\"1\" class=\"dataframe\">\n",
              "  <thead>\n",
              "    <tr style=\"text-align: right;\">\n",
              "      <th></th>\n",
              "      <th>Open</th>\n",
              "      <th>High</th>\n",
              "      <th>Low</th>\n",
              "      <th>Close</th>\n",
              "      <th>Adj Close</th>\n",
              "      <th>Volume</th>\n",
              "    </tr>\n",
              "  </thead>\n",
              "  <tbody>\n",
              "    <tr>\n",
              "      <th>count</th>\n",
              "      <td>9373.000000</td>\n",
              "      <td>9373.000000</td>\n",
              "      <td>9373.000000</td>\n",
              "      <td>9373.000000</td>\n",
              "      <td>9373.000000</td>\n",
              "      <td>9.373000e+03</td>\n",
              "    </tr>\n",
              "    <tr>\n",
              "      <th>mean</th>\n",
              "      <td>48.187510</td>\n",
              "      <td>48.708432</td>\n",
              "      <td>47.657192</td>\n",
              "      <td>48.202110</td>\n",
              "      <td>42.795510</td>\n",
              "      <td>5.784494e+07</td>\n",
              "    </tr>\n",
              "    <tr>\n",
              "      <th>std</th>\n",
              "      <td>70.321724</td>\n",
              "      <td>71.052606</td>\n",
              "      <td>69.559191</td>\n",
              "      <td>70.348664</td>\n",
              "      <td>70.344745</td>\n",
              "      <td>3.823132e+07</td>\n",
              "    </tr>\n",
              "    <tr>\n",
              "      <th>min</th>\n",
              "      <td>0.088542</td>\n",
              "      <td>0.092014</td>\n",
              "      <td>0.088542</td>\n",
              "      <td>0.090278</td>\n",
              "      <td>0.056201</td>\n",
              "      <td>2.304000e+06</td>\n",
              "    </tr>\n",
              "    <tr>\n",
              "      <th>25%</th>\n",
              "      <td>5.343750</td>\n",
              "      <td>5.429688</td>\n",
              "      <td>5.250000</td>\n",
              "      <td>5.367188</td>\n",
              "      <td>3.341276</td>\n",
              "      <td>3.356960e+07</td>\n",
              "    </tr>\n",
              "    <tr>\n",
              "      <th>50%</th>\n",
              "      <td>27.049999</td>\n",
              "      <td>27.350000</td>\n",
              "      <td>26.830000</td>\n",
              "      <td>27.090000</td>\n",
              "      <td>19.038940</td>\n",
              "      <td>5.105760e+07</td>\n",
              "    </tr>\n",
              "    <tr>\n",
              "      <th>75%</th>\n",
              "      <td>43.468750</td>\n",
              "      <td>44.031250</td>\n",
              "      <td>43.000000</td>\n",
              "      <td>43.500000</td>\n",
              "      <td>32.936100</td>\n",
              "      <td>7.163840e+07</td>\n",
              "    </tr>\n",
              "    <tr>\n",
              "      <th>max</th>\n",
              "      <td>344.619995</td>\n",
              "      <td>349.670013</td>\n",
              "      <td>342.200012</td>\n",
              "      <td>343.109985</td>\n",
              "      <td>338.335938</td>\n",
              "      <td>1.031789e+09</td>\n",
              "    </tr>\n",
              "  </tbody>\n",
              "</table>\n",
              "</div>\n",
              "      <button class=\"colab-df-convert\" onclick=\"convertToInteractive('df-c7d4ceed-9e3b-4aed-8f84-fde0dde53d9e')\"\n",
              "              title=\"Convert this dataframe to an interactive table.\"\n",
              "              style=\"display:none;\">\n",
              "        \n",
              "  <svg xmlns=\"http://www.w3.org/2000/svg\" height=\"24px\"viewBox=\"0 0 24 24\"\n",
              "       width=\"24px\">\n",
              "    <path d=\"M0 0h24v24H0V0z\" fill=\"none\"/>\n",
              "    <path d=\"M18.56 5.44l.94 2.06.94-2.06 2.06-.94-2.06-.94-.94-2.06-.94 2.06-2.06.94zm-11 1L8.5 8.5l.94-2.06 2.06-.94-2.06-.94L8.5 2.5l-.94 2.06-2.06.94zm10 10l.94 2.06.94-2.06 2.06-.94-2.06-.94-.94-2.06-.94 2.06-2.06.94z\"/><path d=\"M17.41 7.96l-1.37-1.37c-.4-.4-.92-.59-1.43-.59-.52 0-1.04.2-1.43.59L10.3 9.45l-7.72 7.72c-.78.78-.78 2.05 0 2.83L4 21.41c.39.39.9.59 1.41.59.51 0 1.02-.2 1.41-.59l7.78-7.78 2.81-2.81c.8-.78.8-2.07 0-2.86zM5.41 20L4 18.59l7.72-7.72 1.47 1.35L5.41 20z\"/>\n",
              "  </svg>\n",
              "      </button>\n",
              "      \n",
              "  <style>\n",
              "    .colab-df-container {\n",
              "      display:flex;\n",
              "      flex-wrap:wrap;\n",
              "      gap: 12px;\n",
              "    }\n",
              "\n",
              "    .colab-df-convert {\n",
              "      background-color: #E8F0FE;\n",
              "      border: none;\n",
              "      border-radius: 50%;\n",
              "      cursor: pointer;\n",
              "      display: none;\n",
              "      fill: #1967D2;\n",
              "      height: 32px;\n",
              "      padding: 0 0 0 0;\n",
              "      width: 32px;\n",
              "    }\n",
              "\n",
              "    .colab-df-convert:hover {\n",
              "      background-color: #E2EBFA;\n",
              "      box-shadow: 0px 1px 2px rgba(60, 64, 67, 0.3), 0px 1px 3px 1px rgba(60, 64, 67, 0.15);\n",
              "      fill: #174EA6;\n",
              "    }\n",
              "\n",
              "    [theme=dark] .colab-df-convert {\n",
              "      background-color: #3B4455;\n",
              "      fill: #D2E3FC;\n",
              "    }\n",
              "\n",
              "    [theme=dark] .colab-df-convert:hover {\n",
              "      background-color: #434B5C;\n",
              "      box-shadow: 0px 1px 3px 1px rgba(0, 0, 0, 0.15);\n",
              "      filter: drop-shadow(0px 1px 2px rgba(0, 0, 0, 0.3));\n",
              "      fill: #FFFFFF;\n",
              "    }\n",
              "  </style>\n",
              "\n",
              "      <script>\n",
              "        const buttonEl =\n",
              "          document.querySelector('#df-c7d4ceed-9e3b-4aed-8f84-fde0dde53d9e button.colab-df-convert');\n",
              "        buttonEl.style.display =\n",
              "          google.colab.kernel.accessAllowed ? 'block' : 'none';\n",
              "\n",
              "        async function convertToInteractive(key) {\n",
              "          const element = document.querySelector('#df-c7d4ceed-9e3b-4aed-8f84-fde0dde53d9e');\n",
              "          const dataTable =\n",
              "            await google.colab.kernel.invokeFunction('convertToInteractive',\n",
              "                                                     [key], {});\n",
              "          if (!dataTable) return;\n",
              "\n",
              "          const docLinkHtml = 'Like what you see? Visit the ' +\n",
              "            '<a target=\"_blank\" href=https://colab.research.google.com/notebooks/data_table.ipynb>data table notebook</a>'\n",
              "            + ' to learn more about interactive tables.';\n",
              "          element.innerHTML = '';\n",
              "          dataTable['output_type'] = 'display_data';\n",
              "          await google.colab.output.renderOutput(dataTable, element);\n",
              "          const docLink = document.createElement('div');\n",
              "          docLink.innerHTML = docLinkHtml;\n",
              "          element.appendChild(docLink);\n",
              "        }\n",
              "      </script>\n",
              "    </div>\n",
              "  </div>\n",
              "  "
            ]
          },
          "metadata": {},
          "execution_count": 48
        }
      ]
    },
    {
      "cell_type": "code",
      "source": [
        "data.dtypes"
      ],
      "metadata": {
        "colab": {
          "base_uri": "https://localhost:8080/"
        },
        "id": "q6vGy8Esw9Vp",
        "outputId": "a373231f-57a5-45ee-93e1-d0b7f04ad0b0"
      },
      "execution_count": 49,
      "outputs": [
        {
          "output_type": "execute_result",
          "data": {
            "text/plain": [
              "Date          object\n",
              "Open         float64\n",
              "High         float64\n",
              "Low          float64\n",
              "Close        float64\n",
              "Adj Close    float64\n",
              "Volume         int64\n",
              "dtype: object"
            ]
          },
          "metadata": {},
          "execution_count": 49
        }
      ]
    },
    {
      "cell_type": "code",
      "source": [
        "data['Date']"
      ],
      "metadata": {
        "colab": {
          "base_uri": "https://localhost:8080/"
        },
        "id": "hH0zNn3Nq9z2",
        "outputId": "ec8a2f9b-eb27-48fd-ac72-72a5bf7bf7bf"
      },
      "execution_count": 50,
      "outputs": [
        {
          "output_type": "execute_result",
          "data": {
            "text/plain": [
              "0       1986-03-13\n",
              "1       1986-03-14\n",
              "2       1986-03-17\n",
              "3       1986-03-18\n",
              "4       1986-03-19\n",
              "           ...    \n",
              "9368    2023-05-15\n",
              "9369    2023-05-16\n",
              "9370    2023-05-17\n",
              "9371    2023-05-18\n",
              "9372    2023-05-19\n",
              "Name: Date, Length: 9373, dtype: object"
            ]
          },
          "metadata": {},
          "execution_count": 50
        }
      ]
    },
    {
      "cell_type": "markdown",
      "source": [
        "**We will convert the Datatype of Date from Object to datetime**"
      ],
      "metadata": {
        "id": "UkqrG14IrQEg"
      }
    },
    {
      "cell_type": "code",
      "source": [
        "data['Date'] = pd.to_datetime(data['Date'])"
      ],
      "metadata": {
        "id": "yxzaKA8D2Mdn"
      },
      "execution_count": 51,
      "outputs": []
    },
    {
      "cell_type": "code",
      "source": [
        "data.dtypes"
      ],
      "metadata": {
        "colab": {
          "base_uri": "https://localhost:8080/"
        },
        "id": "m-kuMHaW2U4u",
        "outputId": "aa9bb7f9-07c3-4637-8235-6f723fa023ad"
      },
      "execution_count": 52,
      "outputs": [
        {
          "output_type": "execute_result",
          "data": {
            "text/plain": [
              "Date         datetime64[ns]\n",
              "Open                float64\n",
              "High                float64\n",
              "Low                 float64\n",
              "Close               float64\n",
              "Adj Close           float64\n",
              "Volume                int64\n",
              "dtype: object"
            ]
          },
          "metadata": {},
          "execution_count": 52
        }
      ]
    },
    {
      "cell_type": "code",
      "source": [
        "import matplotlib.pyplot as plt\n",
        "\n",
        "plt.plot(data['Date'], data['Close'])"
      ],
      "metadata": {
        "colab": {
          "base_uri": "https://localhost:8080/",
          "height": 447
        },
        "id": "7k6Jfoac2XF3",
        "outputId": "9bcc29fc-dbb2-4de0-876a-ecf17c8aeb43"
      },
      "execution_count": 53,
      "outputs": [
        {
          "output_type": "execute_result",
          "data": {
            "text/plain": [
              "[<matplotlib.lines.Line2D at 0x7fcbc58aa8f0>]"
            ]
          },
          "metadata": {},
          "execution_count": 53
        },
        {
          "output_type": "display_data",
          "data": {
            "text/plain": [
              "<Figure size 640x480 with 1 Axes>"
            ],
            "image/png": "[encoded data removed]"
          },
          "metadata": {}
        }
      ]
    },
    {
      "cell_type": "code",
      "source": [
        "data1 = data['Close']\n",
        "data1"
      ],
      "metadata": {
        "colab": {
          "base_uri": "https://localhost:8080/"
        },
        "id": "9Lh8vBZb4uhX",
        "outputId": "db3a2750-ffbc-48f7-ba38-80b4fb5d8672"
      },
      "execution_count": 60,
      "outputs": [
        {
          "output_type": "execute_result",
          "data": {
            "text/plain": [
              "0         0.097222\n",
              "1         0.100694\n",
              "2         0.102431\n",
              "3         0.099826\n",
              "4         0.098090\n",
              "           ...    \n",
              "9368    309.459991\n",
              "9369    311.739990\n",
              "9370    314.000000\n",
              "9371    318.519989\n",
              "9372    318.339996\n",
              "Name: Close, Length: 9373, dtype: float64"
            ]
          },
          "metadata": {},
          "execution_count": 60
        }
      ]
    },
    {
      "cell_type": "code",
      "source": [
        "from sklearn.preprocessing import MinMaxScaler\n",
        "scaler = MinMaxScaler(feature_range = (0,1))\n",
        "data1 = scaler.fit_transform(np.array(data1).reshape(-1,1))"
      ],
      "metadata": {
        "id": "hwUccfns3zvp"
      },
      "execution_count": 61,
      "outputs": []
    },
    {
      "cell_type": "code",
      "source": [
        "data1"
      ],
      "metadata": {
        "colab": {
          "base_uri": "https://localhost:8080/"
        },
        "id": "ts7rx-Bn41iC",
        "outputId": "36631fcd-24b9-402d-cd8d-0f6990a44e30"
      },
      "execution_count": 62,
      "outputs": [
        {
          "output_type": "execute_result",
          "data": {
            "text/plain": [
              "array([[2.02437349e-05],\n",
              "       [3.03656023e-05],\n",
              "       [3.54294513e-05],\n",
              "       ...,\n",
              "       [9.15136115e-01],\n",
              "       [9.28313168e-01],\n",
              "       [9.27788438e-01]])"
            ]
          },
          "metadata": {},
          "execution_count": 62
        }
      ]
    },
    {
      "cell_type": "code",
      "source": [
        "training_size = int(len(data1)*0.65)\n",
        "test_size = len(data1)-training_size\n",
        "train_data, test_data = data1[0:training_size,:],data1[training_size:len(data1),:1]"
      ],
      "metadata": {
        "id": "aFR11KKo5O5c"
      },
      "execution_count": 63,
      "outputs": []
    },
    {
      "cell_type": "code",
      "source": [
        "training_size, test_size"
      ],
      "metadata": {
        "colab": {
          "base_uri": "https://localhost:8080/"
        },
        "id": "92WNE_FV53jX",
        "outputId": "ebd68058-7d75-4a1c-8ddb-a970e8b79b1f"
      },
      "execution_count": 64,
      "outputs": [
        {
          "output_type": "execute_result",
          "data": {
            "text/plain": [
              "(6092, 3281)"
            ]
          },
          "metadata": {},
          "execution_count": 64
        }
      ]
    },
    {
      "cell_type": "markdown",
      "source": [
        "**As it is a time series data so the output must know the sequence of previous inputs for this we make will make function**"
      ],
      "metadata": {
        "id": "hm1WC_4N6Ync"
      }
    },
    {
      "cell_type": "code",
      "source": [
        "import numpy\n",
        "\n",
        "def create_dataset(dataset, timestep=1):\n",
        "  X,y = [],[]\n",
        "  for i in range (len(dataset)-timestep-1):\n",
        "    a = dataset[i:(i+timestep),0]\n",
        "    X.append(a)\n",
        "    y.append(dataset[i+timestep,0])\n",
        "  return numpy.array(X), numpy.array(y)"
      ],
      "metadata": {
        "id": "fhm4veJX6kN-"
      },
      "execution_count": 65,
      "outputs": []
    },
    {
      "cell_type": "code",
      "source": [
        "timestep=100\n",
        "X_train, y_train = create_dataset(train_data, timestep)\n",
        "X_test, y_test = create_dataset(test_data, timestep)"
      ],
      "metadata": {
        "id": "BnI37K9c7rZD"
      },
      "execution_count": 66,
      "outputs": []
    },
    {
      "cell_type": "code",
      "source": [
        "X_train, y_train"
      ],
      "metadata": {
        "colab": {
          "base_uri": "https://localhost:8080/"
        },
        "id": "btf6zQtN8qIt",
        "outputId": "851ca9b4-dd4c-470c-9ff5-f34c63fd6f98"
      },
      "execution_count": 67,
      "outputs": [
        {
          "output_type": "execute_result",
          "data": {
            "text/plain": [
              "(array([[2.02437349e-05, 3.03656023e-05, 3.54294513e-05, ...,\n",
              "         2.53046686e-05, 2.27742017e-05, 2.27742017e-05],\n",
              "        [3.03656023e-05, 3.54294513e-05, 2.78351354e-05, ...,\n",
              "         2.27742017e-05, 2.27742017e-05, 2.02437349e-05],\n",
              "        [3.54294513e-05, 2.78351354e-05, 2.27742017e-05, ...,\n",
              "         2.27742017e-05, 2.02437349e-05, 1.77132680e-05],\n",
              "        ...,\n",
              "        [8.59417736e-02, 8.63499105e-02, 8.68163618e-02, ...,\n",
              "         9.01106303e-02, 8.87696024e-02, 8.97024934e-02],\n",
              "        [8.63499105e-02, 8.68163618e-02, 8.67580532e-02, ...,\n",
              "         8.87696024e-02, 8.97024934e-02, 8.75743299e-02],\n",
              "        [8.68163618e-02, 8.67580532e-02, 8.75160301e-02, ...,\n",
              "         8.97024934e-02, 8.75743299e-02, 8.67580532e-02]]),\n",
              " array([2.02437349e-05, 1.77132680e-05, 1.51828011e-05, ...,\n",
              "        8.75743299e-02, 8.67580532e-02, 8.42217558e-02]))"
            ]
          },
          "metadata": {},
          "execution_count": 67
        }
      ]
    },
    {
      "cell_type": "code",
      "source": [
        "X_train.shape"
      ],
      "metadata": {
        "colab": {
          "base_uri": "https://localhost:8080/"
        },
        "id": "LpheBvAz8y49",
        "outputId": "4b718182-1044-41dd-9f65-70fd1e411325"
      },
      "execution_count": 68,
      "outputs": [
        {
          "output_type": "execute_result",
          "data": {
            "text/plain": [
              "(5991, 100)"
            ]
          },
          "metadata": {},
          "execution_count": 68
        }
      ]
    },
    {
      "cell_type": "code",
      "source": [
        "y_train.shape"
      ],
      "metadata": {
        "colab": {
          "base_uri": "https://localhost:8080/"
        },
        "id": "ChsH1is186t0",
        "outputId": "cbe692da-60f2-432e-d3ea-2d4fc3ec85bd"
      },
      "execution_count": 70,
      "outputs": [
        {
          "output_type": "execute_result",
          "data": {
            "text/plain": [
              "(5991,)"
            ]
          },
          "metadata": {},
          "execution_count": 70
        }
      ]
    },
    {
      "cell_type": "code",
      "source": [
        "X_test.shape"
      ],
      "metadata": {
        "colab": {
          "base_uri": "https://localhost:8080/"
        },
        "id": "sONMai5R892W",
        "outputId": "914567f5-979d-4a0a-85bc-36d8ce99970d"
      },
      "execution_count": 71,
      "outputs": [
        {
          "output_type": "execute_result",
          "data": {
            "text/plain": [
              "(3180, 100)"
            ]
          },
          "metadata": {},
          "execution_count": 71
        }
      ]
    },
    {
      "cell_type": "code",
      "source": [
        "y_test.shape"
      ],
      "metadata": {
        "colab": {
          "base_uri": "https://localhost:8080/"
        },
        "id": "GmTbSZG49AGl",
        "outputId": "6b038211-ed29-41ca-e986-90ffa1437f9a"
      },
      "execution_count": 72,
      "outputs": [
        {
          "output_type": "execute_result",
          "data": {
            "text/plain": [
              "(3180,)"
            ]
          },
          "metadata": {},
          "execution_count": 72
        }
      ]
    },
    {
      "cell_type": "code",
      "source": [
        "X_train = X_train.reshape(X_train.shape[0],X_train.shape[1],1)\n",
        "X_test = X_test.reshape(X_test.shape[0],X_test.shape[1],1)"
      ],
      "metadata": {
        "id": "xtcmbE6A9Pgf"
      },
      "execution_count": 73,
      "outputs": []
    },
    {
      "cell_type": "code",
      "source": [
        "X_train.shape"
      ],
      "metadata": {
        "colab": {
          "base_uri": "https://localhost:8080/"
        },
        "id": "eeTqwtVC9fSd",
        "outputId": "e3562983-6667-44d3-9a98-9bee00ef1bb1"
      },
      "execution_count": 74,
      "outputs": [
        {
          "output_type": "execute_result",
          "data": {
            "text/plain": [
              "(5991, 100, 1)"
            ]
          },
          "metadata": {},
          "execution_count": 74
        }
      ]
    },
    {
      "cell_type": "code",
      "source": [
        "threshold = round(0.9 + X_train.shape[0])\n",
        "threshold"
      ],
      "metadata": {
        "colab": {
          "base_uri": "https://localhost:8080/"
        },
        "id": "KOX7EpTbFxZo",
        "outputId": "f5e0e54a-082f-4860-af20-03e05401c96a"
      },
      "execution_count": 87,
      "outputs": [
        {
          "output_type": "execute_result",
          "data": {
            "text/plain": [
              "5992"
            ]
          },
          "metadata": {},
          "execution_count": 87
        }
      ]
    },
    {
      "cell_type": "code",
      "source": [
        "import tensorflow as tf\n",
        "from tensorflow import keras\n",
        "from tensorflow.keras import layers"
      ],
      "metadata": {
        "id": "t53Z8aGm-ofN"
      },
      "execution_count": 84,
      "outputs": []
    },
    {
      "cell_type": "code",
      "source": [
        "model = keras.Sequential()\n",
        "model.add(layers.GRU(15,\n",
        "                     activation = 'tanh',\n",
        "                     recurrent_activation = 'sigmoid',\n",
        "                     input_shape = (X_train.shape[1],X_train.shape[2]\n",
        "                     )))\n",
        "\n",
        "model.add(layers.Dropout(rate=0.2))\n",
        "model.add(layers.Dense(1))\n",
        "model.compile(loss='mean_squared_error', optimizer = 'adam')\n",
        "model.summary()"
      ],
      "metadata": {
        "colab": {
          "base_uri": "https://localhost:8080/"
        },
        "id": "-C5VM_Jf-JZZ",
        "outputId": "e50dc1bf-16b3-4e53-9ace-5f26b268f57d"
      },
      "execution_count": 93,
      "outputs": [
        {
          "output_type": "stream",
          "name": "stdout",
          "text": [
            "Model: \"sequential_4\"\n",
            "_________________________________________________________________\n",
            " Layer (type)                Output Shape              Param #   \n",
            "=================================================================\n",
            " gru_2 (GRU)                 (None, 15)                810       \n",
            "                                                                 \n",
            " dropout_2 (Dropout)         (None, 15)                0         \n",
            "                                                                 \n",
            " dense_2 (Dense)             (None, 1)                 16        \n",
            "                                                                 \n",
            "=================================================================\n",
            "Total params: 826\n",
            "Trainable params: 826\n",
            "Non-trainable params: 0\n",
            "_________________________________________________________________\n"
          ]
        }
      ]
    },
    {
      "cell_type": "code",
      "source": [
        "history = model.fit(\n",
        "    X_train[:threshold],\n",
        "    y_train[:threshold],\n",
        "    shuffle = False,\n",
        "    epochs = 100,\n",
        "    batch_size = 32,\n",
        "    validation_split = 0.2,\n",
        "    verbose = 1 \n",
        ")"
      ],
      "metadata": {
        "colab": {
          "base_uri": "https://localhost:8080/"
        },
        "id": "nze3EO90Fdk1",
        "outputId": "8e6c0b3b-7850-420d-e375-9ba0ef0156e9"
      },
      "execution_count": 94,
      "outputs": [
        {
          "output_type": "stream",
          "name": "stdout",
          "text": [
            "Epoch 1/100\n",
            "150/150 [==============================] - 6s 27ms/step - loss: 1.6714e-04 - val_loss: 1.2601e-04\n",
            "Epoch 2/100\n",
            "150/150 [==============================] - 4s 29ms/step - loss: 4.2130e-04 - val_loss: 9.1816e-05\n",
            "Epoch 3/100\n",
            "150/150 [==============================] - 4s 27ms/step - loss: 4.2571e-04 - val_loss: 9.4669e-05\n",
            "Epoch 4/100\n",
            "150/150 [==============================] - 4s 26ms/step - loss: 4.4047e-04 - val_loss: 7.7106e-05\n",
            "Epoch 5/100\n",
            "150/150 [==============================] - 4s 29ms/step - loss: 4.3415e-04 - val_loss: 7.2227e-05\n",
            "Epoch 6/100\n",
            "150/150 [==============================] - 4s 25ms/step - loss: 4.0072e-04 - val_loss: 8.2180e-05\n",
            "Epoch 7/100\n",
            "150/150 [==============================] - 4s 26ms/step - loss: 3.7347e-04 - val_loss: 8.1184e-05\n",
            "Epoch 8/100\n",
            "150/150 [==============================] - 4s 30ms/step - loss: 3.6503e-04 - val_loss: 9.0155e-05\n",
            "Epoch 9/100\n",
            "150/150 [==============================] - 4s 26ms/step - loss: 3.5125e-04 - val_loss: 9.1514e-05\n",
            "Epoch 10/100\n",
            "150/150 [==============================] - 4s 26ms/step - loss: 3.3280e-04 - val_loss: 9.1125e-05\n",
            "Epoch 11/100\n",
            "150/150 [==============================] - 4s 29ms/step - loss: 3.1803e-04 - val_loss: 8.4546e-05\n",
            "Epoch 12/100\n",
            "150/150 [==============================] - 4s 25ms/step - loss: 3.1065e-04 - val_loss: 7.2985e-05\n",
            "Epoch 13/100\n",
            "150/150 [==============================] - 4s 27ms/step - loss: 2.9521e-04 - val_loss: 7.8991e-05\n",
            "Epoch 14/100\n",
            "150/150 [==============================] - 4s 29ms/step - loss: 2.9675e-04 - val_loss: 7.6706e-05\n",
            "Epoch 15/100\n",
            "150/150 [==============================] - 4s 25ms/step - loss: 2.7274e-04 - val_loss: 6.7384e-05\n",
            "Epoch 16/100\n",
            "150/150 [==============================] - 4s 26ms/step - loss: 2.8446e-04 - val_loss: 7.5188e-05\n",
            "Epoch 17/100\n",
            "150/150 [==============================] - 4s 28ms/step - loss: 2.5947e-04 - val_loss: 7.0075e-05\n",
            "Epoch 18/100\n",
            "150/150 [==============================] - 4s 25ms/step - loss: 2.5247e-04 - val_loss: 6.3934e-05\n",
            "Epoch 19/100\n",
            "150/150 [==============================] - 4s 27ms/step - loss: 2.3837e-04 - val_loss: 6.1058e-05\n",
            "Epoch 20/100\n",
            "150/150 [==============================] - 4s 28ms/step - loss: 2.1827e-04 - val_loss: 4.8928e-05\n",
            "Epoch 21/100\n",
            "150/150 [==============================] - 4s 25ms/step - loss: 2.1675e-04 - val_loss: 4.5844e-05\n",
            "Epoch 22/100\n",
            "150/150 [==============================] - 4s 27ms/step - loss: 1.9996e-04 - val_loss: 4.2833e-05\n",
            "Epoch 23/100\n",
            "150/150 [==============================] - 4s 28ms/step - loss: 1.7948e-04 - val_loss: 3.7382e-05\n",
            "Epoch 24/100\n",
            "150/150 [==============================] - 4s 26ms/step - loss: 1.7517e-04 - val_loss: 3.4264e-05\n",
            "Epoch 25/100\n",
            "150/150 [==============================] - 4s 27ms/step - loss: 1.7182e-04 - val_loss: 3.1323e-05\n",
            "Epoch 26/100\n",
            "150/150 [==============================] - 4s 27ms/step - loss: 1.5369e-04 - val_loss: 2.7758e-05\n",
            "Epoch 27/100\n",
            "150/150 [==============================] - 4s 25ms/step - loss: 1.4810e-04 - val_loss: 2.4852e-05\n",
            "Epoch 28/100\n",
            "150/150 [==============================] - 4s 28ms/step - loss: 1.3058e-04 - val_loss: 2.2418e-05\n",
            "Epoch 29/100\n",
            "150/150 [==============================] - 4s 27ms/step - loss: 1.2617e-04 - val_loss: 2.1247e-05\n",
            "Epoch 30/100\n",
            "150/150 [==============================] - 4s 25ms/step - loss: 1.1844e-04 - val_loss: 1.9343e-05\n",
            "Epoch 31/100\n",
            "150/150 [==============================] - 4s 28ms/step - loss: 1.1075e-04 - val_loss: 1.9363e-05\n",
            "Epoch 32/100\n",
            "150/150 [==============================] - 4s 26ms/step - loss: 1.0285e-04 - val_loss: 1.9080e-05\n",
            "Epoch 33/100\n",
            "150/150 [==============================] - 4s 25ms/step - loss: 1.0837e-04 - val_loss: 2.0281e-05\n",
            "Epoch 34/100\n",
            "150/150 [==============================] - 4s 29ms/step - loss: 1.0590e-04 - val_loss: 2.0174e-05\n",
            "Epoch 35/100\n",
            "150/150 [==============================] - 4s 27ms/step - loss: 1.0576e-04 - val_loss: 1.9227e-05\n",
            "Epoch 36/100\n",
            "150/150 [==============================] - 4s 26ms/step - loss: 1.0082e-04 - val_loss: 1.8520e-05\n",
            "Epoch 37/100\n",
            "150/150 [==============================] - 4s 29ms/step - loss: 9.7801e-05 - val_loss: 2.0063e-05\n",
            "Epoch 38/100\n",
            "150/150 [==============================] - 4s 27ms/step - loss: 1.0196e-04 - val_loss: 2.0440e-05\n",
            "Epoch 39/100\n",
            "150/150 [==============================] - 4s 25ms/step - loss: 1.0661e-04 - val_loss: 2.2417e-05\n",
            "Epoch 40/100\n",
            "150/150 [==============================] - 4s 30ms/step - loss: 1.0621e-04 - val_loss: 2.1682e-05\n",
            "Epoch 41/100\n",
            "150/150 [==============================] - 4s 25ms/step - loss: 1.0694e-04 - val_loss: 2.3812e-05\n",
            "Epoch 42/100\n",
            "150/150 [==============================] - 4s 26ms/step - loss: 1.1734e-04 - val_loss: 2.3480e-05\n",
            "Epoch 43/100\n",
            "150/150 [==============================] - 4s 29ms/step - loss: 1.1274e-04 - val_loss: 2.3151e-05\n",
            "Epoch 44/100\n",
            "150/150 [==============================] - 4s 26ms/step - loss: 1.1524e-04 - val_loss: 2.3395e-05\n",
            "Epoch 45/100\n",
            "150/150 [==============================] - 4s 25ms/step - loss: 1.0874e-04 - val_loss: 2.2124e-05\n",
            "Epoch 46/100\n",
            "150/150 [==============================] - 4s 29ms/step - loss: 1.1485e-04 - val_loss: 2.3546e-05\n",
            "Epoch 47/100\n",
            "150/150 [==============================] - 4s 26ms/step - loss: 1.1793e-04 - val_loss: 2.2676e-05\n",
            "Epoch 48/100\n",
            "150/150 [==============================] - 4s 26ms/step - loss: 1.1481e-04 - val_loss: 2.3520e-05\n",
            "Epoch 49/100\n",
            "150/150 [==============================] - 4s 30ms/step - loss: 1.2010e-04 - val_loss: 2.3104e-05\n",
            "Epoch 50/100\n",
            "150/150 [==============================] - 4s 25ms/step - loss: 1.1532e-04 - val_loss: 2.1311e-05\n",
            "Epoch 51/100\n",
            "150/150 [==============================] - 4s 26ms/step - loss: 1.1138e-04 - val_loss: 2.2528e-05\n",
            "Epoch 52/100\n",
            "150/150 [==============================] - 4s 29ms/step - loss: 1.1195e-04 - val_loss: 2.1054e-05\n",
            "Epoch 53/100\n",
            "150/150 [==============================] - 4s 26ms/step - loss: 1.1222e-04 - val_loss: 2.2716e-05\n",
            "Epoch 54/100\n",
            "150/150 [==============================] - 4s 26ms/step - loss: 1.0949e-04 - val_loss: 2.0779e-05\n",
            "Epoch 55/100\n",
            "150/150 [==============================] - 4s 29ms/step - loss: 1.0183e-04 - val_loss: 2.0352e-05\n",
            "Epoch 56/100\n",
            "150/150 [==============================] - 4s 26ms/step - loss: 1.0315e-04 - val_loss: 2.0057e-05\n",
            "Epoch 57/100\n",
            "150/150 [==============================] - 4s 25ms/step - loss: 9.9821e-05 - val_loss: 1.8588e-05\n",
            "Epoch 58/100\n",
            "150/150 [==============================] - 4s 30ms/step - loss: 8.7643e-05 - val_loss: 1.8214e-05\n",
            "Epoch 59/100\n",
            "150/150 [==============================] - 4s 26ms/step - loss: 9.3841e-05 - val_loss: 1.9133e-05\n",
            "Epoch 60/100\n",
            "150/150 [==============================] - 4s 26ms/step - loss: 9.4865e-05 - val_loss: 1.9640e-05\n",
            "Epoch 61/100\n",
            "150/150 [==============================] - 5s 30ms/step - loss: 9.5006e-05 - val_loss: 2.0404e-05\n",
            "Epoch 62/100\n",
            "150/150 [==============================] - 4s 25ms/step - loss: 9.3824e-05 - val_loss: 1.9605e-05\n",
            "Epoch 63/100\n",
            "150/150 [==============================] - 4s 25ms/step - loss: 9.6223e-05 - val_loss: 1.9752e-05\n",
            "Epoch 64/100\n",
            "150/150 [==============================] - 4s 29ms/step - loss: 9.7274e-05 - val_loss: 2.0450e-05\n",
            "Epoch 65/100\n",
            "150/150 [==============================] - 4s 25ms/step - loss: 9.8345e-05 - val_loss: 2.0114e-05\n",
            "Epoch 66/100\n",
            "150/150 [==============================] - 4s 25ms/step - loss: 9.9348e-05 - val_loss: 1.9373e-05\n",
            "Epoch 67/100\n",
            "150/150 [==============================] - 4s 29ms/step - loss: 9.9582e-05 - val_loss: 2.0760e-05\n",
            "Epoch 68/100\n",
            "150/150 [==============================] - 4s 25ms/step - loss: 1.0305e-04 - val_loss: 2.0660e-05\n",
            "Epoch 69/100\n",
            "150/150 [==============================] - 4s 25ms/step - loss: 9.8243e-05 - val_loss: 1.9513e-05\n",
            "Epoch 70/100\n",
            "150/150 [==============================] - 4s 29ms/step - loss: 9.8275e-05 - val_loss: 1.9318e-05\n",
            "Epoch 71/100\n",
            "150/150 [==============================] - 4s 27ms/step - loss: 9.3889e-05 - val_loss: 1.9717e-05\n",
            "Epoch 72/100\n",
            "150/150 [==============================] - 4s 26ms/step - loss: 8.8605e-05 - val_loss: 1.6940e-05\n",
            "Epoch 73/100\n",
            "150/150 [==============================] - 4s 28ms/step - loss: 9.0503e-05 - val_loss: 1.9584e-05\n",
            "Epoch 74/100\n",
            "150/150 [==============================] - 4s 25ms/step - loss: 9.3826e-05 - val_loss: 1.9226e-05\n",
            "Epoch 75/100\n",
            "150/150 [==============================] - 4s 27ms/step - loss: 9.0045e-05 - val_loss: 1.8493e-05\n",
            "Epoch 76/100\n",
            "150/150 [==============================] - 4s 28ms/step - loss: 8.7107e-05 - val_loss: 1.8338e-05\n",
            "Epoch 77/100\n",
            "150/150 [==============================] - 4s 26ms/step - loss: 9.0849e-05 - val_loss: 1.8979e-05\n",
            "Epoch 78/100\n",
            "150/150 [==============================] - 4s 28ms/step - loss: 9.1693e-05 - val_loss: 1.8294e-05\n",
            "Epoch 79/100\n",
            "150/150 [==============================] - 4s 28ms/step - loss: 8.6241e-05 - val_loss: 1.6899e-05\n",
            "Epoch 80/100\n",
            "150/150 [==============================] - 4s 26ms/step - loss: 8.7744e-05 - val_loss: 1.7650e-05\n",
            "Epoch 81/100\n",
            "150/150 [==============================] - 4s 29ms/step - loss: 7.9981e-05 - val_loss: 1.6619e-05\n",
            "Epoch 82/100\n",
            "150/150 [==============================] - 4s 26ms/step - loss: 8.2724e-05 - val_loss: 1.6484e-05\n",
            "Epoch 83/100\n",
            "150/150 [==============================] - 4s 25ms/step - loss: 8.2165e-05 - val_loss: 1.7466e-05\n",
            "Epoch 84/100\n",
            "150/150 [==============================] - 4s 29ms/step - loss: 8.4752e-05 - val_loss: 1.8042e-05\n",
            "Epoch 85/100\n",
            "150/150 [==============================] - 4s 27ms/step - loss: 8.8664e-05 - val_loss: 1.8380e-05\n",
            "Epoch 86/100\n",
            "150/150 [==============================] - 4s 25ms/step - loss: 8.9342e-05 - val_loss: 1.8317e-05\n",
            "Epoch 87/100\n",
            "150/150 [==============================] - 4s 29ms/step - loss: 8.7340e-05 - val_loss: 1.9087e-05\n",
            "Epoch 88/100\n",
            "150/150 [==============================] - 4s 25ms/step - loss: 8.9492e-05 - val_loss: 1.8304e-05\n",
            "Epoch 89/100\n",
            "150/150 [==============================] - 4s 26ms/step - loss: 8.9558e-05 - val_loss: 1.7853e-05\n",
            "Epoch 90/100\n",
            "150/150 [==============================] - 4s 29ms/step - loss: 8.7326e-05 - val_loss: 1.7545e-05\n",
            "Epoch 91/100\n",
            "150/150 [==============================] - 4s 26ms/step - loss: 8.4558e-05 - val_loss: 1.7445e-05\n",
            "Epoch 92/100\n",
            "150/150 [==============================] - 4s 26ms/step - loss: 8.6504e-05 - val_loss: 1.7253e-05\n",
            "Epoch 93/100\n",
            "150/150 [==============================] - 4s 29ms/step - loss: 8.2995e-05 - val_loss: 1.7053e-05\n",
            "Epoch 94/100\n",
            "150/150 [==============================] - 4s 25ms/step - loss: 8.3732e-05 - val_loss: 1.6641e-05\n",
            "Epoch 95/100\n",
            "150/150 [==============================] - 4s 25ms/step - loss: 8.2307e-05 - val_loss: 1.4772e-05\n",
            "Epoch 96/100\n",
            "150/150 [==============================] - 4s 29ms/step - loss: 7.3401e-05 - val_loss: 1.7000e-05\n",
            "Epoch 97/100\n",
            "150/150 [==============================] - 4s 26ms/step - loss: 7.9385e-05 - val_loss: 1.7351e-05\n",
            "Epoch 98/100\n",
            "150/150 [==============================] - 4s 26ms/step - loss: 8.0925e-05 - val_loss: 1.6715e-05\n",
            "Epoch 99/100\n",
            "150/150 [==============================] - 4s 29ms/step - loss: 7.9581e-05 - val_loss: 1.6197e-05\n",
            "Epoch 100/100\n",
            "150/150 [==============================] - 4s 26ms/step - loss: 7.9520e-05 - val_loss: 1.7404e-05\n"
          ]
        }
      ]
    },
    {
      "cell_type": "code",
      "source": [
        "plt.plot(history.history['loss'],label = 'training_loss')\n",
        "plt.plot(history.history['val_loss'],label = 'validation_loss')\n",
        "plt.legend()"
      ],
      "metadata": {
        "colab": {
          "base_uri": "https://localhost:8080/",
          "height": 447
        },
        "id": "0JDpi9C1JkLw",
        "outputId": "461a14b4-aa90-4717-e9c8-3ceb71645c1b"
      },
      "execution_count": 95,
      "outputs": [
        {
          "output_type": "execute_result",
          "data": {
            "text/plain": [
              "<matplotlib.legend.Legend at 0x7fcb66a69f30>"
            ]
          },
          "metadata": {},
          "execution_count": 95
        },
        {
          "output_type": "display_data",
          "data": {
            "text/plain": [
              "<Figure size 640x480 with 1 Axes>"
            ],
            "image/png": "[encoded data removed]"
          },
          "metadata": {}
        }
      ]
    },
    {
      "cell_type": "code",
      "source": [
        "test_data_prediction = model.predict(X_test)"
      ],
      "metadata": {
        "colab": {
          "base_uri": "https://localhost:8080/"
        },
        "id": "eNDPW-sEPyCH",
        "outputId": "9b4de1fb-298e-406f-ab12-e770a5d219d3"
      },
      "execution_count": 96,
      "outputs": [
        {
          "output_type": "stream",
          "name": "stdout",
          "text": [
            "100/100 [==============================] - 1s 4ms/step\n"
          ]
        }
      ]
    },
    {
      "cell_type": "code",
      "source": [
        "print(test_data_prediction)"
      ],
      "metadata": {
        "colab": {
          "base_uri": "https://localhost:8080/"
        },
        "id": "sFR7yw7UP2CI",
        "outputId": "1f3ee100-4ce9-4616-c39b-8011fdd0e307"
      },
      "execution_count": 97,
      "outputs": [
        {
          "output_type": "stream",
          "name": "stdout",
          "text": [
            "[[0.07468111]\n",
            " [0.07466892]\n",
            " [0.07444057]\n",
            " ...\n",
            " [0.7403871 ]\n",
            " [0.74766   ]\n",
            " [0.75667185]]\n"
          ]
        }
      ]
    },
    {
      "cell_type": "code",
      "source": [
        "from sklearn import metrics \n",
        "mae = metrics.mean_absolute_error(y_test, test_data_prediction)"
      ],
      "metadata": {
        "id": "N0h8fKqDP47j"
      },
      "execution_count": 98,
      "outputs": []
    },
    {
      "cell_type": "code",
      "source": [
        "print(\"Mean Absoulte Error of our Model is: \", mae)\n"
      ],
      "metadata": {
        "colab": {
          "base_uri": "https://localhost:8080/"
        },
        "id": "L_f1HHprQCpI",
        "outputId": "0ffa16a6-ef34-4179-e69c-9c3f786e512d"
      },
      "execution_count": 99,
      "outputs": [
        {
          "output_type": "stream",
          "name": "stdout",
          "text": [
            "Mean Absoulte Error of our Model is:  0.056441542712901506\n"
          ]
        }
      ]
    }
  ]
}